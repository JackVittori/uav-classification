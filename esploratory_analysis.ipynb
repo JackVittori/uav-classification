{
 "cells": [
  {
   "cell_type": "code",
   "id": "initial_id",
   "metadata": {
    "collapsed": true,
    "ExecuteTime": {
     "end_time": "2025-03-05T15:18:13.550452Z",
     "start_time": "2025-03-05T15:18:13.543325Z"
    }
   },
   "source": [
    "import numpy as np\n",
    "import os\n",
    "import PIL\n",
    "import PIL.Image\n",
    "import tensorflow as tf\n",
    "import pathlib\n",
    "from tqdm import tqdm"
   ],
   "outputs": [],
   "execution_count": 18
  },
  {
   "metadata": {
    "ExecuteTime": {
     "end_time": "2025-03-05T15:18:18.631892Z",
     "start_time": "2025-03-05T15:18:13.662560Z"
    }
   },
   "cell_type": "code",
   "source": [
    "data_dir = pathlib.Path(os.getcwd()+'/images')\n",
    "image_count = len(list(data_dir.glob('*/*.jpg')))\n",
    "print(image_count)\n",
    "counter = 0\n",
    "for i in range(image_count):\n",
    "    image = list(data_dir.glob('*/*.jpg'))[0]\n",
    "    a = PIL.Image.open(image)\n",
    "    if a.size ==(1400,1050): \n",
    "        counter +=1\n",
    "        \n",
    "print(counter)"
   ],
   "id": "192f41fb98d12022",
   "outputs": [
    {
     "name": "stdout",
     "output_type": "stream",
     "text": [
      "4849\n"
     ]
    },
    {
     "name": "stderr",
     "output_type": "stream",
     "text": [
      "Exception ignored in: <bound method IPythonKernel._clean_thread_parent_frames of <ipykernel.ipkernel.IPythonKernel object at 0x107ac5af0>>\n",
      "Traceback (most recent call last):\n",
      "  File \"/opt/homebrew/Caskroom/miniforge/base/envs/uav/lib/python3.9/site-packages/ipykernel/ipkernel.py\", line 775, in _clean_thread_parent_frames\n",
      "    def _clean_thread_parent_frames(\n",
      "KeyboardInterrupt: \n"
     ]
    },
    {
     "ename": "KeyboardInterrupt",
     "evalue": "",
     "output_type": "error",
     "traceback": [
      "\u001B[0;31m---------------------------------------------------------------------------\u001B[0m",
      "\u001B[0;31mKeyboardInterrupt\u001B[0m                         Traceback (most recent call last)",
      "Cell \u001B[0;32mIn[19], line 6\u001B[0m\n\u001B[1;32m      4\u001B[0m counter \u001B[38;5;241m=\u001B[39m \u001B[38;5;241m0\u001B[39m\n\u001B[1;32m      5\u001B[0m \u001B[38;5;28;01mfor\u001B[39;00m i \u001B[38;5;129;01min\u001B[39;00m \u001B[38;5;28mrange\u001B[39m(image_count):\n\u001B[0;32m----> 6\u001B[0m     image \u001B[38;5;241m=\u001B[39m \u001B[38;5;28;43mlist\u001B[39;49m\u001B[43m(\u001B[49m\u001B[43mdata_dir\u001B[49m\u001B[38;5;241;43m.\u001B[39;49m\u001B[43mglob\u001B[49m\u001B[43m(\u001B[49m\u001B[38;5;124;43m'\u001B[39;49m\u001B[38;5;124;43m*/*.jpg\u001B[39;49m\u001B[38;5;124;43m'\u001B[39;49m\u001B[43m)\u001B[49m\u001B[43m)\u001B[49m[\u001B[38;5;241m0\u001B[39m]\n\u001B[1;32m      7\u001B[0m     a \u001B[38;5;241m=\u001B[39m PIL\u001B[38;5;241m.\u001B[39mImage\u001B[38;5;241m.\u001B[39mopen(image)\n\u001B[1;32m      8\u001B[0m     \u001B[38;5;28;01mif\u001B[39;00m a\u001B[38;5;241m.\u001B[39msize \u001B[38;5;241m==\u001B[39m(\u001B[38;5;241m1400\u001B[39m,\u001B[38;5;241m1050\u001B[39m): \n",
      "File \u001B[0;32m/opt/homebrew/Caskroom/miniforge/base/envs/uav/lib/python3.9/pathlib.py:1177\u001B[0m, in \u001B[0;36mPath.glob\u001B[0;34m(self, pattern)\u001B[0m\n\u001B[1;32m   1175\u001B[0m     \u001B[38;5;28;01mraise\u001B[39;00m \u001B[38;5;167;01mNotImplementedError\u001B[39;00m(\u001B[38;5;124m\"\u001B[39m\u001B[38;5;124mNon-relative patterns are unsupported\u001B[39m\u001B[38;5;124m\"\u001B[39m)\n\u001B[1;32m   1176\u001B[0m selector \u001B[38;5;241m=\u001B[39m _make_selector(\u001B[38;5;28mtuple\u001B[39m(pattern_parts), \u001B[38;5;28mself\u001B[39m\u001B[38;5;241m.\u001B[39m_flavour)\n\u001B[0;32m-> 1177\u001B[0m \u001B[38;5;28;01mfor\u001B[39;00m p \u001B[38;5;129;01min\u001B[39;00m selector\u001B[38;5;241m.\u001B[39mselect_from(\u001B[38;5;28mself\u001B[39m):\n\u001B[1;32m   1178\u001B[0m     \u001B[38;5;28;01myield\u001B[39;00m p\n",
      "File \u001B[0;32m/opt/homebrew/Caskroom/miniforge/base/envs/uav/lib/python3.9/pathlib.py:575\u001B[0m, in \u001B[0;36m_WildcardSelector._select_from\u001B[0;34m(self, parent_path, is_dir, exists, scandir)\u001B[0m\n\u001B[1;32m    573\u001B[0m         \u001B[38;5;28;01mif\u001B[39;00m \u001B[38;5;28mself\u001B[39m\u001B[38;5;241m.\u001B[39mmatch(name):\n\u001B[1;32m    574\u001B[0m             path \u001B[38;5;241m=\u001B[39m parent_path\u001B[38;5;241m.\u001B[39m_make_child_relpath(name)\n\u001B[0;32m--> 575\u001B[0m             \u001B[38;5;28;01mfor\u001B[39;00m p \u001B[38;5;129;01min\u001B[39;00m \u001B[38;5;28mself\u001B[39m\u001B[38;5;241m.\u001B[39msuccessor\u001B[38;5;241m.\u001B[39m_select_from(path, is_dir, exists, scandir):\n\u001B[1;32m    576\u001B[0m                 \u001B[38;5;28;01myield\u001B[39;00m p\n\u001B[1;32m    577\u001B[0m \u001B[38;5;28;01mexcept\u001B[39;00m \u001B[38;5;167;01mPermissionError\u001B[39;00m:\n",
      "File \u001B[0;32m/opt/homebrew/Caskroom/miniforge/base/envs/uav/lib/python3.9/pathlib.py:575\u001B[0m, in \u001B[0;36m_WildcardSelector._select_from\u001B[0;34m(self, parent_path, is_dir, exists, scandir)\u001B[0m\n\u001B[1;32m    573\u001B[0m         \u001B[38;5;28;01mif\u001B[39;00m \u001B[38;5;28mself\u001B[39m\u001B[38;5;241m.\u001B[39mmatch(name):\n\u001B[1;32m    574\u001B[0m             path \u001B[38;5;241m=\u001B[39m parent_path\u001B[38;5;241m.\u001B[39m_make_child_relpath(name)\n\u001B[0;32m--> 575\u001B[0m             \u001B[38;5;28;01mfor\u001B[39;00m p \u001B[38;5;129;01min\u001B[39;00m \u001B[38;5;28mself\u001B[39m\u001B[38;5;241m.\u001B[39msuccessor\u001B[38;5;241m.\u001B[39m_select_from(path, is_dir, exists, scandir):\n\u001B[1;32m    576\u001B[0m                 \u001B[38;5;28;01myield\u001B[39;00m p\n\u001B[1;32m    577\u001B[0m \u001B[38;5;28;01mexcept\u001B[39;00m \u001B[38;5;167;01mPermissionError\u001B[39;00m:\n",
      "File \u001B[0;32m/opt/homebrew/Caskroom/miniforge/base/envs/uav/lib/python3.9/pathlib.py:531\u001B[0m, in \u001B[0;36m_TerminatingSelector._select_from\u001B[0;34m(self, parent_path, is_dir, exists, scandir)\u001B[0m\n\u001B[1;32m    530\u001B[0m \u001B[38;5;28;01mdef\u001B[39;00m\u001B[38;5;250m \u001B[39m\u001B[38;5;21m_select_from\u001B[39m(\u001B[38;5;28mself\u001B[39m, parent_path, is_dir, exists, scandir):\n\u001B[0;32m--> 531\u001B[0m     \u001B[38;5;28;01myield\u001B[39;00m parent_path\n",
      "\u001B[0;31mKeyboardInterrupt\u001B[0m: "
     ]
    }
   ],
   "execution_count": 19
  },
  {
   "metadata": {
    "ExecuteTime": {
     "end_time": "2025-03-05T14:56:35.855121Z",
     "start_time": "2025-03-05T14:56:35.841230Z"
    }
   },
   "cell_type": "code",
   "source": "pathlib.Path(os.getcwd()+'/images').glob()",
   "id": "e22ba5fbd25f3500",
   "outputs": [
    {
     "ename": "TypeError",
     "evalue": "glob() missing 1 required positional argument: 'pattern'",
     "output_type": "error",
     "traceback": [
      "\u001B[0;31m---------------------------------------------------------------------------\u001B[0m",
      "\u001B[0;31mTypeError\u001B[0m                                 Traceback (most recent call last)",
      "Cell \u001B[0;32mIn[9], line 1\u001B[0m\n\u001B[0;32m----> 1\u001B[0m \u001B[43mpathlib\u001B[49m\u001B[38;5;241;43m.\u001B[39;49m\u001B[43mPath\u001B[49m\u001B[43m(\u001B[49m\u001B[43mos\u001B[49m\u001B[38;5;241;43m.\u001B[39;49m\u001B[43mgetcwd\u001B[49m\u001B[43m(\u001B[49m\u001B[43m)\u001B[49m\u001B[38;5;241;43m+\u001B[39;49m\u001B[38;5;124;43m'\u001B[39;49m\u001B[38;5;124;43m/images\u001B[39;49m\u001B[38;5;124;43m'\u001B[39;49m\u001B[43m)\u001B[49m\u001B[38;5;241;43m.\u001B[39;49m\u001B[43mglob\u001B[49m\u001B[43m(\u001B[49m\u001B[43m)\u001B[49m\n",
      "\u001B[0;31mTypeError\u001B[0m: glob() missing 1 required positional argument: 'pattern'"
     ]
    }
   ],
   "execution_count": 9
  },
  {
   "metadata": {
    "ExecuteTime": {
     "end_time": "2025-03-05T14:53:57.370601Z",
     "start_time": "2025-03-05T14:53:57.253668Z"
    }
   },
   "cell_type": "code",
   "source": "__file__",
   "id": "2c1188553e482eb4",
   "outputs": [
    {
     "ename": "NameError",
     "evalue": "name '__file__' is not defined",
     "output_type": "error",
     "traceback": [
      "\u001B[0;31m---------------------------------------------------------------------------\u001B[0m",
      "\u001B[0;31mNameError\u001B[0m                                 Traceback (most recent call last)",
      "Cell \u001B[0;32mIn[5], line 1\u001B[0m\n\u001B[0;32m----> 1\u001B[0m \u001B[38;5;18;43m__file__\u001B[39;49m\n",
      "\u001B[0;31mNameError\u001B[0m: name '__file__' is not defined"
     ]
    }
   ],
   "execution_count": 5
  },
  {
   "metadata": {},
   "cell_type": "code",
   "outputs": [],
   "execution_count": null,
   "source": "",
   "id": "cbfc687288f189f0"
  }
 ],
 "metadata": {
  "kernelspec": {
   "display_name": "Python 3",
   "language": "python",
   "name": "python3"
  },
  "language_info": {
   "codemirror_mode": {
    "name": "ipython",
    "version": 2
   },
   "file_extension": ".py",
   "mimetype": "text/x-python",
   "name": "python",
   "nbconvert_exporter": "python",
   "pygments_lexer": "ipython2",
   "version": "2.7.6"
  }
 },
 "nbformat": 4,
 "nbformat_minor": 5
}
