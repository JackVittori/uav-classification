{
 "cells": [
  {
   "cell_type": "code",
   "id": "initial_id",
   "metadata": {
    "collapsed": true,
    "ExecuteTime": {
     "end_time": "2025-03-06T10:36:38.992086Z",
     "start_time": "2025-03-06T10:36:38.988495Z"
    }
   },
   "source": [
    "import numpy as np\n",
    "import os\n",
    "import PIL\n",
    "import PIL.Image\n",
    "import tensorflow as tf\n",
    "import pathlib\n",
    "import random\n",
    "import IPython.display as display\n",
    "from tqdm import tqdm"
   ],
   "execution_count": 17,
   "outputs": []
  },
  {
   "metadata": {
    "ExecuteTime": {
     "end_time": "2025-03-06T10:32:52.124356Z",
     "start_time": "2025-03-06T10:32:52.121323Z"
    }
   },
   "cell_type": "code",
   "source": [
    "data_root = pathlib.Path('/Users/jackvittori/Desktop/uav-classification/images')\n",
    "for i, dir in enumerate(data_root.iterdir()):\n",
    "    print(dir)      "
   ],
   "id": "c6d499f71a6052fa",
   "execution_count": 10,
   "outputs": []
  },
  {
   "metadata": {
    "ExecuteTime": {
     "end_time": "2025-03-06T10:34:14.839991Z",
     "start_time": "2025-03-06T10:34:14.817598Z"
    }
   },
   "cell_type": "code",
   "source": [
    "all_image_paths = list(data_root.glob('*/*'))\n",
    "all_image_paths = [str(path) for path in all_image_paths]\n",
    "random.shuffle(all_image_paths)\n",
    "image_count = len(all_image_paths)\n",
    "image_count"
   ],
   "id": "16309d9bdaa9b780",
   "execution_count": 14,
   "outputs": []
  },
  {
   "metadata": {
    "ExecuteTime": {
     "end_time": "2025-03-06T10:34:36.212049Z",
     "start_time": "2025-03-06T10:34:36.209637Z"
    }
   },
   "cell_type": "code",
   "source": "all_image_paths[:10]",
   "id": "ecc4de7719a0c8e5",
   "execution_count": 16,
   "outputs": []
  },
  {
   "metadata": {
    "ExecuteTime": {
     "end_time": "2025-03-06T10:39:27.670386Z",
     "start_time": "2025-03-06T10:39:27.667826Z"
    }
   },
   "cell_type": "code",
   "source": [
    "image_rel = pathlib.Path(all_image_paths[0]).relative_to(data_root)\n",
    "image_rel"
   ],
   "id": "851fd5c7002690f",
   "execution_count": 18,
   "outputs": []
  },
  {
   "metadata": {
    "ExecuteTime": {
     "end_time": "2025-03-06T10:44:53.330322Z",
     "start_time": "2025-03-06T10:44:53.326032Z"
    }
   },
   "cell_type": "code",
   "source": [
    "label_names = sorted(item.name for item in data_root.glob('*/') if item.is_dir())\n",
    "label_names"
   ],
   "id": "6263a10620989340",
   "execution_count": 19,
   "outputs": []
  },
  {
   "metadata": {
    "ExecuteTime": {
     "end_time": "2025-03-06T10:47:06.921614Z",
     "start_time": "2025-03-06T10:47:06.916025Z"
    }
   },
   "cell_type": "code",
   "source": [
    "label_to_index = dict((name, index) for index,name in enumerate(label_names))\n",
    "label_to_index"
   ],
   "id": "35e36a9cb398330c",
   "execution_count": 20,
   "outputs": []
  },
  {
   "metadata": {
    "ExecuteTime": {
     "end_time": "2025-03-06T10:48:11.665585Z",
     "start_time": "2025-03-06T10:48:11.661489Z"
    }
   },
   "cell_type": "code",
   "source": "pathlib.Path(all_image_paths[0]).parent.name",
   "id": "2d15b8f2cb5d98e3",
   "execution_count": 24,
   "outputs": []
  },
  {
   "metadata": {
    "ExecuteTime": {
     "end_time": "2025-03-06T10:47:32.816952Z",
     "start_time": "2025-03-06T10:47:32.793817Z"
    }
   },
   "cell_type": "code",
   "source": [
    "all_image_labels = [label_to_index[pathlib.Path(path).parent.name]\n",
    "                    for path in all_image_paths]\n",
    "\n",
    "print(\"First 10 labels indices: \", all_image_labels[:10])"
   ],
   "id": "bfacd7490f80bbc6",
   "execution_count": 21,
   "outputs": []
  },
  {
   "metadata": {
    "ExecuteTime": {
     "end_time": "2025-03-06T13:23:22.481782Z",
     "start_time": "2025-03-06T13:23:22.478810Z"
    }
   },
   "cell_type": "code",
   "source": "type(all_image_labels[0])",
   "id": "23c87273f6e523f7",
   "execution_count": 57,
   "outputs": []
  },
  {
   "metadata": {
    "ExecuteTime": {
     "end_time": "2025-03-06T13:05:33.973784Z",
     "start_time": "2025-03-06T13:05:33.840023Z"
    }
   },
   "cell_type": "code",
   "source": [
    "import matplotlib.pyplot as plt\n",
    "img_raw = tf.io.read_file(all_image_paths[1])\n",
    "img_tensor = tf.image.decode_image(img_raw)\n",
    "\n",
    "print(img_tensor.shape)\n",
    "print(img_tensor.dtype)\n",
    "print(tf.reduce_min(img_tensor))\n",
    "img_tensor = img_tensor/255\n",
    "print(tf.reduce_max(img_tensor))\n",
    "pil_img = tf.keras.preprocessing.image.array_to_img(img_tensor)\n",
    "print(type(pil_img))\n",
    "plt.imshow(pil_img)"
   ],
   "id": "b858e385c131a4f7",
   "execution_count": 55,
   "outputs": []
  },
  {
   "metadata": {
    "ExecuteTime": {
     "end_time": "2025-03-06T11:54:23.598675Z",
     "start_time": "2025-03-06T11:54:23.594835Z"
    }
   },
   "cell_type": "code",
   "source": "dataset = tf.data.Dataset.from_tensor_slices([1, 2, 3])\n",
   "id": "cbfc687288f189f0",
   "execution_count": 40,
   "outputs": []
  },
  {
   "metadata": {
    "ExecuteTime": {
     "end_time": "2025-03-06T11:55:05.473050Z",
     "start_time": "2025-03-06T11:55:05.459005Z"
    }
   },
   "cell_type": "code",
   "source": "",
   "id": "f88d8b7e784aa23c",
   "execution_count": 46,
   "outputs": []
  },
  {
   "metadata": {
    "ExecuteTime": {
     "end_time": "2025-03-06T11:54:58.272200Z",
     "start_time": "2025-03-06T11:54:58.268787Z"
    }
   },
   "cell_type": "code",
   "source": "len(dataset)",
   "id": "e426406a86b4f37e",
   "execution_count": 45,
   "outputs": []
  },
  {
   "metadata": {},
   "cell_type": "code",
   "execution_count": null,
   "source": "",
   "id": "538c5f4a36d3f094",
   "outputs": []
  }
 ],
 "metadata": {
  "kernelspec": {
   "display_name": "Python 3",
   "language": "python",
   "name": "python3"
  },
  "language_info": {
   "codemirror_mode": {
    "name": "ipython",
    "version": 2
   },
   "file_extension": ".py",
   "mimetype": "text/x-python",
   "name": "python",
   "nbconvert_exporter": "python",
   "pygments_lexer": "ipython2",
   "version": "2.7.6"
  }
 },
 "nbformat": 4,
 "nbformat_minor": 5
}
